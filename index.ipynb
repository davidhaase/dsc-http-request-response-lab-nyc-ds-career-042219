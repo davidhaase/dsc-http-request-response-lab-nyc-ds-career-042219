{
 "cells": [
  {
   "cell_type": "markdown",
   "metadata": {},
   "source": [
    "# HTTP Request/Response Cycle - Lab\n",
    "\n",
    "## Introduction \n",
    "\n",
    "In this lab, we'll make use of the `requests` module commands and properties seen in the previous lesson, to extract information for a web service called **\"Open Notify\"** to access NASA's space data. \n",
    "\n",
    "## Objectives\n",
    "\n",
    "You will be able to:\n",
    "\n",
    "* Understand and explain the HTTP Request/Response cycle\n",
    "* Make http requests in Python using the ‘requests’ library\n",
    "\n",
    "## Open Notify \n",
    "\n",
    "[Open Notify](http://open-notify.org/)  is an an open source project to provide a simple programming interface for some of NASA’s awesome data. This takes live raw data from NASA's systems and turn them into APIs related to space and spacecraft. We can access following information from open notify. \n",
    "\n",
    "* Current Location of the International Space Station\n",
    "\n",
    "* Overhead Pass Predictions for the International Space Station\n",
    "\n",
    "* Number of People in Space\n",
    "    \n",
    "### API endpoints\n",
    "\n",
    "OpenNotify has several API endpoints. \n",
    ">An endpoint is a server route that is used to retrieve different data from the API. \n",
    "\n",
    "For example, the `/comments` endpoint on the Reddit API might retrieve information about comments, whereas the `/users` endpoint might retrieve data about users. To access them, you would add the endpoint to the base url of the API.\n",
    "\n",
    "For the OpenNotify API, we have following end points \n",
    "\n",
    "1. Current Location of the International Space Station `/iss-now.json`\n",
    "2. Overhead Pass Predictions for the International Space Station `/iss-pass.json`    \n",
    "3. Number of People in Space `/astros.json`\n",
    "\n",
    "The json extension simple tells us that the data is being returned in a JSON format.\n",
    "\n",
    "In this lab, we'll be querying a this API to retrieve live data about the International Space Station (ISS). Details on OpenNofity , endpoints, syntax and services it offers can be viewed [Here](http://open-notify.org/Open-Notify-API/)\n",
    "\n",
    "![](images/iss.jpg)\n",
    "\n",
    "### Current location of International Space Station\n",
    "\n",
    "The first endpoint we'll look at on OpenNotify is the` iss-now.json` endpoint (current location of international space station). This endpoint gets the current latitude and longitude of the International Space Station.  Perform following tasks \n",
    "* Make a get request to get the latest position of the international space station from the opennotify api's `iss_now` endpoint at http://api.open-notify.org/iss-now.json\n",
    "* Check the status code of the response\n",
    "* Interpret the returned code"
   ]
  },
  {
   "cell_type": "code",
   "execution_count": 11,
   "metadata": {},
   "outputs": [
    {
     "name": "stdout",
     "output_type": "stream",
     "text": [
      "{'timestamp': 1557930453, 'message': 'success', 'iss_position': {'longitude': '-137.1165', 'latitude': '32.5031'}}\n"
     ]
    }
   ],
   "source": [
    "# You Code Here\n",
    "import requests\n",
    "import json\n",
    "\n",
    "endpoint = 'http://api.open-notify.org/iss-now.json'\n",
    "\n",
    "try:\n",
    "    r = requests.get(endpoint)\n",
    "except Exception as e:\n",
    "    print(e)\n",
    "    \n",
    "if r.status_code == 200:\n",
    "    curr_pos = json.loads(r.text)\n",
    "    \n",
    "else:\n",
    "    print(r.status_code)\n"
   ]
  },
  {
   "cell_type": "code",
   "execution_count": 2,
   "metadata": {},
   "outputs": [],
   "source": [
    "# Your comments "
   ]
  },
  {
   "cell_type": "markdown",
   "metadata": {},
   "source": [
    "* Print the contents of the response and identify its current location"
   ]
  },
  {
   "cell_type": "code",
   "execution_count": 15,
   "metadata": {},
   "outputs": [
    {
     "name": "stdout",
     "output_type": "stream",
     "text": [
      "32.5031 -137.1165\n"
     ]
    }
   ],
   "source": [
    "# You Code Here\n",
    "curr_pos.keys()\n",
    "(lat, long) = curr_pos['iss_position']['latitude'], curr_pos['iss_position']['longitude']\n",
    "print(lat, long)"
   ]
  },
  {
   "cell_type": "code",
   "execution_count": 4,
   "metadata": {},
   "outputs": [],
   "source": [
    "# Interpret your results using the API"
   ]
  },
  {
   "cell_type": "markdown",
   "metadata": {},
   "source": [
    "### Check the next pass of International space station for a given location\n",
    "\n",
    "Let's repeat the above for the second endpoint `iss_pass.json`. This end point is used to query the next pass of the space station on a given location. Let's just run as above and record your observations."
   ]
  },
  {
   "cell_type": "code",
   "execution_count": 16,
   "metadata": {},
   "outputs": [
    {
     "name": "stdout",
     "output_type": "stream",
     "text": [
      "404\n"
     ]
    }
   ],
   "source": [
    "# You Code Here\n",
    "endpoint = 'http://api.open-notify.org/iss_pass.json'\n",
    "\n",
    "try:\n",
    "    r = requests.get(endpoint)\n",
    "except Exception as e:\n",
    "    print(e)\n",
    "    \n",
    "if r.status_code == 200:\n",
    "    curr_pos = json.loads(r.text)\n",
    "    \n",
    "else:\n",
    "    print(r.status_code)"
   ]
  },
  {
   "cell_type": "code",
   "execution_count": 6,
   "metadata": {},
   "outputs": [],
   "source": [
    "# Your comments "
   ]
  },
  {
   "cell_type": "markdown",
   "metadata": {},
   "source": [
    "So clearly there is something wrong as we had a 400 response. This is how you should always test your responses for validity. \n",
    "\n",
    "if we look at the documentation for the OpenNotify API, we see that the ISS Pass endpoint requires two parameters.\n",
    "\n",
    "> The ISS Pass endpoint returns when the ISS will next pass over a given location on earth. In order to compute this, we need to pass the coordinates of the location to the API. We do this by passing two parameters -- latitude and longitude.\n",
    "\n",
    "We can do this by adding an optional keyword argument, params, to our request. In this case, there are two parameters we need to pass:\n",
    "\n",
    "* lat -- The latitude of the location we want.\n",
    "* lon -- The longitude of the location we want.\n",
    "\n",
    "Perform the following tasks :\n",
    "* Set parameters to reflect the lat and long of New York  (40.71, -74)\n",
    "* Send a get request to OpenNotify passing in the lat long parameters as k:v pairs in a dictionary\n",
    "* Check the status code and interpret\n",
    "* Print the header information and the returned content"
   ]
  },
  {
   "cell_type": "code",
   "execution_count": 29,
   "metadata": {},
   "outputs": [
    {
     "name": "stdout",
     "output_type": "stream",
     "text": [
      "200\n",
      "{\n",
      "  \"message\": \"success\", \n",
      "  \"request\": {\n",
      "    \"altitude\": 100, \n",
      "    \"datetime\": 1557930918, \n",
      "    \"latitude\": 40.71, \n",
      "    \"longitude\": -74.0, \n",
      "    \"passes\": 5\n",
      "  }, \n",
      "  \"response\": [\n",
      "    {\n",
      "      \"duration\": 359, \n",
      "      \"risetime\": 1557967703\n",
      "    }, \n",
      "    {\n",
      "      \"duration\": 635, \n",
      "      \"risetime\": 1557973315\n",
      "    }, \n",
      "    {\n",
      "      \"duration\": 616, \n",
      "      \"risetime\": 1557979127\n",
      "    }, \n",
      "    {\n",
      "      \"duration\": 552, \n",
      "      \"risetime\": 1557985005\n",
      "    }, \n",
      "    {\n",
      "      \"duration\": 586, \n",
      "      \"risetime\": 1557990844\n",
      "    }\n",
      "  ]\n",
      "}\n",
      "\n",
      "dict_keys(['message', 'request', 'response'])\n",
      "Pass 1 will start at 2019-05-16 00:48:23 and 2019-05-16 00:54:22\n",
      "Pass 2 will start at 2019-05-16 02:21:55 and 2019-05-16 02:32:30\n",
      "Pass 3 will start at 2019-05-16 03:58:47 and 2019-05-16 04:09:03\n",
      "Pass 4 will start at 2019-05-16 05:36:45 and 2019-05-16 05:45:57\n",
      "Pass 5 will start at 2019-05-16 07:14:04 and 2019-05-16 07:23:50\n",
      "<Response [200]>\n"
     ]
    }
   ],
   "source": [
    "# You Code Here\n",
    "from datetime import datetime\n",
    "\n",
    "\n",
    "\n",
    "LON ='-74'\n",
    "LAT ='40.71'\n",
    "\n",
    "strQuery = f'http://api.open-notify.org/iss-pass.json?lat={LAT}&lon={LON}'\n",
    "\n",
    "try:\n",
    "    r = requests.get(strQuery)\n",
    "    \n",
    "except Exception as e:\n",
    "    print(e)\n",
    "    \n",
    "finally:\n",
    "    pass\n",
    "\n",
    "print(r.status_code)\n",
    "print(r.text)\n",
    "nyc_pass_times = json.loads(r.text)\n",
    "print(nyc_pass_times.keys())\n",
    "\n",
    "pass_count = 1\n",
    "for t in nyc_pass_times['response']:\n",
    "    down = datetime.fromtimestamp(t['risetime'] + t['duration'])\n",
    "    rise = datetime.fromtimestamp(t['risetime'])\n",
    "    print(f'Pass {pass_count} will start at {rise} and {down}')\n",
    "    pass_count += 1\n",
    "timestamp = 1545730073\n",
    "dt_object = datetime.fromtimestamp(timestamp)\n",
    "print(NYC_pass)"
   ]
  },
  {
   "cell_type": "code",
   "execution_count": 8,
   "metadata": {},
   "outputs": [],
   "source": [
    "# Check the API and interpret your results - when will ISS pass over NEW York next ?"
   ]
  },
  {
   "cell_type": "markdown",
   "metadata": {},
   "source": [
    "### Finding the number of people in space\n",
    "\n",
    "OpenNotify has one more API endpoint, `/astros.json`. It tells you how many people are currently in space. The format of the responses can be studied [HERE](http://open-notify.org/Open-Notify-API/People-In-Space/).\n",
    "\n",
    "Read the above documentation and perform following tasks:\n",
    "\n",
    "* Get the response from astros.json endpoint\n",
    "* Count how many people are currently in space\n",
    "* List the names of people currently in space."
   ]
  },
  {
   "cell_type": "code",
   "execution_count": 37,
   "metadata": {},
   "outputs": [
    {
     "name": "stdout",
     "output_type": "stream",
     "text": [
      "{'craft': 'ISS', 'name': 'Oleg Kononenko'}\n",
      "{'craft': 'ISS', 'name': 'David Saint-Jacques'}\n",
      "{'craft': 'ISS', 'name': 'Anne McClain'}\n",
      "{'craft': 'ISS', 'name': 'Alexey Ovchinin'}\n",
      "{'craft': 'ISS', 'name': 'Nick Hague'}\n",
      "{'craft': 'ISS', 'name': 'Christina Koch'}\n"
     ]
    }
   ],
   "source": [
    "# You Code Here\n",
    "endpoint = 'http://api.open-notify.org/astros.json'\n",
    "\n",
    "try:\n",
    "    r = requests.get(endpoint)\n",
    "except Exception as e:\n",
    "    print(e)\n",
    "    \n",
    "if r.status_code == 200:\n",
    "    curr_astros = json.loads(r.text)\n",
    "    \n",
    "else:\n",
    "    print(r.status_code)\n",
    "    \n",
    "astros = json.loads(r.text)\n",
    "for astro in astros['people']:\n",
    "    print(astro)"
   ]
  },
  {
   "cell_type": "code",
   "execution_count": 10,
   "metadata": {},
   "outputs": [],
   "source": [
    "# Interpret the Results - How many people are in space and what are their names "
   ]
  },
  {
   "cell_type": "markdown",
   "metadata": {},
   "source": [
    "## Summary \n",
    "\n",
    "In this lesson we saw how we can use request and response methods to query an Open API. We also saw how to look at the contents returned with the API calls and how to parse them. Next, we'll look at connecting to APIs which are not OPEN, i.e. we would need to pass in some authentication information and filter the results. "
   ]
  }
 ],
 "metadata": {
  "kernelspec": {
   "display_name": "Python 3",
   "language": "python",
   "name": "python3"
  },
  "language_info": {
   "codemirror_mode": {
    "name": "ipython",
    "version": 3
   },
   "file_extension": ".py",
   "mimetype": "text/x-python",
   "name": "python",
   "nbconvert_exporter": "python",
   "pygments_lexer": "ipython3",
   "version": "3.6.6"
  }
 },
 "nbformat": 4,
 "nbformat_minor": 2
}
